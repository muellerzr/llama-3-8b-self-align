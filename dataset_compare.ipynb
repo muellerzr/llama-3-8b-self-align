{
 "cells": [
  {
   "cell_type": "markdown",
   "id": "f00e5f6b-3e45-46d4-907f-080470062581",
   "metadata": {},
   "source": [
    "# Data Curation Comparison\n",
    "\n",
    "Compares the filtered dataset after running through `seed_gathering` when using `llama3-8B` as a judge vs `starcoder-v2`.\n",
    "\n",
    "* [StarCoder Dataset](https://huggingface.co/datasets/bigcode/python-stack-v1-functions-filtered-sc2)\n",
    "* [Llama 3 8B Dataset](https://huggingface.co/datasets/muellerzr/filtered-data)"
   ]
  },
  {
   "cell_type": "markdown",
   "id": "f90006f0-1a2b-4d46-a6b9-91ed4d677be4",
   "metadata": {},
   "source": [
    "## Imports and Constants"
   ]
  },
  {
   "cell_type": "code",
   "execution_count": 1,
   "id": "ae21376f-f955-4edf-8758-a93a8fbc3f38",
   "metadata": {},
   "outputs": [],
   "source": [
    "from datasets import load_dataset\n",
    "from pathlib import Path"
   ]
  },
  {
   "cell_type": "code",
   "execution_count": 4,
   "id": "f9ebfe64-c98e-401f-bcee-5ab477cbe382",
   "metadata": {},
   "outputs": [],
   "source": [
    "data_mount = Path(\"/mnt/data/datasets\")\n",
    "sc2_path = data_mount/\"python-stack-v1-functions-filtered-sc2/\"\n",
    "llama3_path = data_mount/\"python-stack-v1-functions-filtered-llama-3-8B/\""
   ]
  },
  {
   "cell_type": "markdown",
   "id": "43c840ee-b961-408e-8f50-97c06477f91d",
   "metadata": {},
   "source": [
    "## Data Analysis\n",
    "\n",
    "Note: there is only one dataset, `train`"
   ]
  },
  {
   "cell_type": "code",
   "execution_count": 12,
   "id": "09a392d7-1c5f-42d3-9d43-185ad87568d9",
   "metadata": {},
   "outputs": [],
   "source": [
    "sc2_dataset = load_dataset(\"parquet\", data_dir=sc2_path)[\"train\"]\n",
    "llama3_dataset = load_dataset(\"parquet\", data_dir=llama3_path)[\"train\"]"
   ]
  },
  {
   "cell_type": "code",
   "execution_count": 13,
   "id": "f083247a-3e5a-4ffe-a5c2-0e8260500c32",
   "metadata": {},
   "outputs": [
    {
     "data": {
      "text/plain": [
       "(248934, 224363)"
      ]
     },
     "execution_count": 13,
     "metadata": {},
     "output_type": "execute_result"
    }
   ],
   "source": [
    "len(sc2_dataset), len(llama3_dataset)"
   ]
  },
  {
   "cell_type": "code",
   "execution_count": 14,
   "id": "ddca3ccc-e3dd-42c2-b796-9c5e4ca3f02e",
   "metadata": {},
   "outputs": [
    {
     "data": {
      "text/plain": [
       "Dataset({\n",
       "    features: ['content', 'sha1', 'id'],\n",
       "    num_rows: 248934\n",
       "})"
      ]
     },
     "execution_count": 14,
     "metadata": {},
     "output_type": "execute_result"
    }
   ],
   "source": [
    "sc2_dataset"
   ]
  },
  {
   "cell_type": "code",
   "execution_count": 15,
   "id": "3fe0d634-05c6-427c-bd5f-ed5e94a948c8",
   "metadata": {},
   "outputs": [
    {
     "data": {
      "text/plain": [
       "Dataset({\n",
       "    features: ['content', 'sha1', 'id'],\n",
       "    num_rows: 224363\n",
       "})"
      ]
     },
     "execution_count": 15,
     "metadata": {},
     "output_type": "execute_result"
    }
   ],
   "source": [
    "llama3_dataset"
   ]
  },
  {
   "cell_type": "markdown",
   "id": "3e2a34f7-355d-45e2-970c-971a16565d66",
   "metadata": {},
   "source": [
    "First let's look at the % overlap between the two:"
   ]
  },
  {
   "cell_type": "code",
   "execution_count": 16,
   "id": "4695084d-2dd7-4697-8c61-6babbdb19d1a",
   "metadata": {},
   "outputs": [
    {
     "data": {
      "text/plain": [
       "{'content': 'def count_char(char, word):\\n    \"\"\"Counts the characters in word\"\"\"\\n    return word.count(char)\\n    # If you want to do it manually try a for loop',\n",
       " 'sha1': '363222f4876c5a574a84fe14214760c505e920b0',\n",
       " 'id': 0}"
      ]
     },
     "execution_count": 16,
     "metadata": {},
     "output_type": "execute_result"
    }
   ],
   "source": [
    "value = llama3_dataset[0]; value"
   ]
  },
  {
   "cell_type": "code",
   "execution_count": 18,
   "id": "f6db2cd6-f72a-4052-a449-c75475fc3c92",
   "metadata": {},
   "outputs": [
    {
     "data": {
      "text/plain": [
       "(True, True)"
      ]
     },
     "execution_count": 18,
     "metadata": {},
     "output_type": "execute_result"
    }
   ],
   "source": [
    "value in llama3_dataset, value in sc2_dataset"
   ]
  },
  {
   "cell_type": "code",
   "execution_count": 27,
   "id": "64fd2114-5671-46af-84b3-2d16062fb1b8",
   "metadata": {},
   "outputs": [],
   "source": [
    "ground_truth = sc2_dataset[\"content\"]"
   ]
  },
  {
   "cell_type": "code",
   "execution_count": 32,
   "id": "315dc9ea-e1ab-4a8f-9fc7-3f88488d1b0d",
   "metadata": {},
   "outputs": [
    {
     "data": {
      "application/vnd.jupyter.widget-view+json": {
       "model_id": "67788cf87ee94e689542e3aec8bb6cb0",
       "version_major": 2,
       "version_minor": 0
      },
      "text/plain": [
       "Filter (num_proc=8):   0%|          | 0/224363 [00:00<?, ? examples/s]"
      ]
     },
     "metadata": {},
     "output_type": "display_data"
    }
   ],
   "source": [
    "matching_values = llama3_dataset.filter(\n",
    "    lambda example: example[\"content\"] in ground_truth,\n",
    "    keep_in_memory=True,\n",
    "    num_proc=8,\n",
    ")"
   ]
  },
  {
   "cell_type": "code",
   "execution_count": 37,
   "id": "19c05069-79f2-4bd4-8ddc-99b5c93333cb",
   "metadata": {},
   "outputs": [
    {
     "data": {
      "text/plain": [
       "(160874, 224363, 248934)"
      ]
     },
     "execution_count": 37,
     "metadata": {},
     "output_type": "execute_result"
    }
   ],
   "source": [
    "len(matching_values), len(llama3_dataset), len(sc2_dataset)"
   ]
  },
  {
   "cell_type": "code",
   "execution_count": 39,
   "id": "2e7e7658-72e9-42d4-95a9-39a007f72d64",
   "metadata": {},
   "outputs": [
    {
     "data": {
      "text/plain": [
       "0.6462516168944379"
      ]
     },
     "execution_count": 39,
     "metadata": {},
     "output_type": "execute_result"
    }
   ],
   "source": [
    "len(matching_values) / len(sc2_dataset)"
   ]
  },
  {
   "cell_type": "code",
   "execution_count": 40,
   "id": "a9bdd2e9-735e-4993-b1d5-8de9479db43d",
   "metadata": {},
   "outputs": [
    {
     "data": {
      "text/plain": [
       "0.7170255345132664"
      ]
     },
     "execution_count": 40,
     "metadata": {},
     "output_type": "execute_result"
    }
   ],
   "source": [
    "len(matching_values) / len(llama3_dataset)"
   ]
  },
  {
   "cell_type": "markdown",
   "id": "76b424b9-6a6b-466f-a3cf-ff169be687d7",
   "metadata": {},
   "source": [
    "Of the initial `sc2_dataset`, `llama3_dataset` overlaps by 64%, with 29% of items being *new* values. \n",
    "\n",
    "How good is their quality?"
   ]
  },
  {
   "cell_type": "code",
   "execution_count": 36,
   "id": "9bd80001-9c6d-40b0-b31c-7ca29664cc03",
   "metadata": {},
   "outputs": [
    {
     "data": {
      "application/vnd.jupyter.widget-view+json": {
       "model_id": "9c3e484e2a8e4cf8a6d9f46fde6c5fca",
       "version_major": 2,
       "version_minor": 0
      },
      "text/plain": [
       "Filter (num_proc=8):   0%|          | 0/224363 [00:00<?, ? examples/s]"
      ]
     },
     "metadata": {},
     "output_type": "display_data"
    }
   ],
   "source": [
    "new_values = llama3_dataset.filter(\n",
    "    lambda example: example[\"content\"] not in ground_truth,\n",
    "    keep_in_memory=True,\n",
    "    num_proc=8,\n",
    ")"
   ]
  },
  {
   "cell_type": "code",
   "execution_count": 47,
   "id": "5342fa1f-6f32-4ad8-8b01-6b6063c18406",
   "metadata": {},
   "outputs": [
    {
     "name": "stdout",
     "output_type": "stream",
     "text": [
      "def check_context(model, sentence, company_name):\n",
      "    \"\"\"\n",
      "    Check if the company name in the sentence is actually a company name.\n",
      "\n",
      "    :param model: the spacy model.\n",
      "    :param sentence: the sentence to be analysed.\n",
      "    :param company_name: the name of the company.\n",
      "    :return: True if the company name means a company/product.\n",
      "    \"\"\"\n",
      "\n",
      "    doc = model(sentence)\n",
      "    for t in doc.ents:\n",
      "        if t.lower_ == company_name: #if company name is called\n",
      "            if t.label_ == \"ORG\" or t.label_ == \"PRODUCT\": #check they actually mean the company\n",
      "                return True\n",
      "    return False\n",
      "-------------------------\n",
      "def valid_template(template):\n",
      "    \"\"\"Is this a template that returns a valid URL?\"\"\"\n",
      "    if template.name.lower() == \"google books\" and (\n",
      "        template.has(\"plainurl\") or template.has(\"plain-url\")\n",
      "    ):\n",
      "        return True\n",
      "    if template.name.lower() == \"billboardurlbyname\":\n",
      "        return True\n",
      "    return False\n",
      "-------------------------\n",
      "import math\n",
      "\n",
      "\n",
      "def tanD(angle):\n",
      "    \"\"\"\n",
      "    angle est la mesure d'un angle en degrés\n",
      "    ~~~~~~~~~~~~~~~~~~~~~~~~~~~~~~~~~~~~~~~~~~~~~~~~~~~~~~~~~~~~~~\n",
      "    Retourne la tangente de angle.\n",
      "    \"\"\"\n",
      "    return math.tan(math.radians(angle))\n",
      "-------------------------\n",
      "def quote_ident(val):\n",
      "    \"\"\"\n",
      "    This method returns a new string replacing \" with \"\",\n",
      "    and adding a \" at the start and end of the string.\n",
      "    \"\"\"\n",
      "    return '\"' + val.replace('\"', '\"\"') + '\"'\n",
      "-------------------------\n",
      "def matrix_multiply(A, B):\n",
      "    \"\"\" Multiply two matrices A and B.\n",
      "\n",
      "    :param A: the right matrix\n",
      "    :param B: the left matrix\n",
      "    :return: A * B\n",
      "    \"\"\"\n",
      "    # define m and n for the matrix as well as l, the connecting dimension between A and B\n",
      "    m, l, n = len(A), len(A[0]), len(B[0])\n",
      "\n",
      "    # initialize an all zeros matrix\n",
      "    C = [[0.0 for _ in range(len(B[0]))] for _ in range(len(A))]\n",
      "\n",
      "    # iterative over the rows of C\n",
      "    for i in range(m):\n",
      "        # iterative over the columns of C\n",
      "        for j in range(n):\n",
      "            # set C[i][j] to the dot product of ith row of A and the jth column of B\n",
      "            C[i][j] = sum(A[i][k] * B[k][j] for k in range(l))\n",
      "\n",
      "    # return the matrix C = A @ B\n",
      "    return C\n",
      "-------------------------\n"
     ]
    }
   ],
   "source": [
    "for i in range(5):\n",
    "    print(new_values[i][\"content\"])\n",
    "    print(\"-\"*25)"
   ]
  },
  {
   "cell_type": "markdown",
   "id": "cc43917f-c2ba-4f9f-a548-553ecd4b20ec",
   "metadata": {},
   "source": [
    "So far at least, that actually looks quite good"
   ]
  },
  {
   "cell_type": "code",
   "execution_count": 48,
   "id": "83b9af8d-4056-4732-bf18-e890bf143f2a",
   "metadata": {},
   "outputs": [],
   "source": [
    "llama_ground_truth = llama3_dataset[\"content\"]"
   ]
  },
  {
   "cell_type": "code",
   "execution_count": 49,
   "id": "a5648e29-f05e-4310-8e3d-8500321b1be1",
   "metadata": {},
   "outputs": [
    {
     "data": {
      "application/vnd.jupyter.widget-view+json": {
       "model_id": "9ad1bd7428064682a1630f960e58525f",
       "version_major": 2,
       "version_minor": 0
      },
      "text/plain": [
       "Filter (num_proc=8):   0%|          | 0/248934 [00:00<?, ? examples/s]"
      ]
     },
     "metadata": {},
     "output_type": "display_data"
    }
   ],
   "source": [
    "missing_values = sc2_dataset.filter(\n",
    "    lambda example: example[\"content\"] not in llama_ground_truth,\n",
    "    keep_in_memory=True,\n",
    "    num_proc=8,\n",
    ")"
   ]
  },
  {
   "cell_type": "code",
   "execution_count": 51,
   "id": "eb0a02a1-0546-415c-b741-ac0a65661a8e",
   "metadata": {},
   "outputs": [
    {
     "data": {
      "text/plain": [
       "88060"
      ]
     },
     "execution_count": 51,
     "metadata": {},
     "output_type": "execute_result"
    }
   ],
   "source": [
    "len(missing_values)"
   ]
  },
  {
   "cell_type": "code",
   "execution_count": 52,
   "id": "7e57870d-0de2-457d-abc9-59afbf03c2c3",
   "metadata": {},
   "outputs": [
    {
     "name": "stdout",
     "output_type": "stream",
     "text": [
      "def getItemSize(dataType):\n",
      "    \"\"\"\n",
      "    Gets the size of an object depending on its data type name\n",
      "\n",
      "    Args:\n",
      "        dataType (String): Data type of the object\n",
      "\n",
      "    Returns:\n",
      "        (Integer): Size of the object\n",
      "    \"\"\"\n",
      "    # If it's a vector 6, its size is 6\n",
      "    if dataType.startswith(\"VECTOR6\"):\n",
      "        return 6\n",
      "    # If it,s a vector 3, its size is 6\n",
      "    elif dataType.startswith(\"VECTOR3\"):\n",
      "        return 3\n",
      "    # Else its size is only 1\n",
      "    return 1\n",
      "-------------------------\n",
      "import torch\n",
      "\n",
      "\n",
      "def get_optimizer(lr):\n",
      "    \"\"\"\n",
      "    Specify an optimizer and its parameters.\n",
      "\n",
      "    Returns\n",
      "    -------\n",
      "    tuple(torch.optim.Optimizer, dict)\n",
      "        The optimizer class and the dictionary of kwargs that should\n",
      "        be passed in to the optimizer constructor.\n",
      "\n",
      "    \"\"\"\n",
      "    return (torch.optim.SGD,\n",
      "            {\"lr\": lr, \"weight_decay\": 1e-6, \"momentum\": 0.9})\n",
      "-------------------------\n",
      "import re\n",
      "\n",
      "\n",
      "def extract_digits_from_end_of_string(input_string):\n",
      "    \"\"\"\n",
      "    Gets digits at the end of a string\n",
      "    :param input_string: str\n",
      "    :return: int\n",
      "    \"\"\"\n",
      "\n",
      "    result = re.search(r'(\\d+)$', input_string)\n",
      "    if result is not None:\n",
      "        return int(result.group(0))\n",
      "-------------------------\n",
      "import torch\n",
      "\n",
      "\n",
      "def move_bdim_to_front(x, result_ndim=None):\n",
      "    \"\"\"\n",
      "    Returns a tensor with a batch dimension at the front. If a batch\n",
      "    dimension already exists, move it. Otherwise, create a new batch\n",
      "    dimension at the front. If `result_ndim` is not None, ensure that the\n",
      "    resulting tensor has rank equal to `result_ndim`.\n",
      "    \"\"\"\n",
      "    x_dim = len(x.shape)\n",
      "    x_bdim = x.bdim\n",
      "    if x_bdim is None:\n",
      "        x = torch.unsqueeze(x, 0)\n",
      "    else:\n",
      "        x = torch.movedim(x, x_bdim, 0)\n",
      "    if result_ndim is None:\n",
      "        return x\n",
      "    diff = result_ndim - x_dim - (x_bdim is None)\n",
      "    for _ in range(diff):\n",
      "        x = torch.unsqueeze(x, 1)\n",
      "    return x\n",
      "-------------------------\n",
      "import re\n",
      "\n",
      "\n",
      "def add_whitespace(c_fn):\n",
      "    \"\"\" Add two spaces between all tokens of a C function\n",
      "    \"\"\"\n",
      "    tok = re.compile(r'[a-zA-Z0-9_]+|\\*|\\(|\\)|\\,|\\[|\\]')\n",
      "    return '  ' + '  '.join(tok.findall(c_fn)) + '  '\n",
      "-------------------------\n"
     ]
    }
   ],
   "source": [
    "for i in range(5):\n",
    "    print(missing_values[i][\"content\"])\n",
    "    print(\"-\"*25)"
   ]
  },
  {
   "cell_type": "markdown",
   "id": "43180171-51bc-4519-844e-7ca0bdb445b5",
   "metadata": {},
   "source": [
    "These *seem* okay, so just going to continue to the next stages. We'll see what happens at the end"
   ]
  },
  {
   "cell_type": "markdown",
   "id": "a971d3a8-a39b-4b71-a387-b5d8481d51cc",
   "metadata": {},
   "source": [
    "## Post filtering"
   ]
  },
  {
   "cell_type": "code",
   "execution_count": 1,
   "id": "817ff0e4-2ada-4bb3-8908-811a96a5ff75",
   "metadata": {},
   "outputs": [
    {
     "name": "stderr",
     "output_type": "stream",
     "text": [
      "/home/zach/miniconda3/envs/accelerate/lib/python3.10/site-packages/tqdm/auto.py:21: TqdmWarning: IProgress not found. Please update jupyter and ipywidgets. See https://ipywidgets.readthedocs.io/en/stable/user_install.html\n",
      "  from .autonotebook import tqdm as notebook_tqdm\n"
     ]
    }
   ],
   "source": [
    "from datasets import load_dataset"
   ]
  },
  {
   "cell_type": "code",
   "execution_count": 2,
   "id": "5b9943dc-d26d-408a-9c98-5d9886535ffa",
   "metadata": {},
   "outputs": [
    {
     "name": "stderr",
     "output_type": "stream",
     "text": [
      "Downloading data files: 100%|███████████████████████████████████████████████████████████████████████████████████| 1/1 [00:00<00:00, 14614.30it/s]\n",
      "Extracting data files: 100%|███████████████████████████████████████████████████████████████████████████████████████| 1/1 [00:00<00:00, 39.49it/s]\n",
      "Generating train split: 113524 examples [00:05, 19030.64 examples/s]\n",
      "/home/zach/miniconda3/envs/accelerate/lib/python3.10/site-packages/datasets/table.py:1421: FutureWarning: promote has been superseded by mode='default'.\n",
      "  table = cls._concat_blocks(blocks, axis=0)\n"
     ]
    }
   ],
   "source": [
    "filtered_dset = load_dataset(\"json\", data_files=\"filtered.jsonl\")"
   ]
  },
  {
   "cell_type": "code",
   "execution_count": 3,
   "id": "3e651758-0338-4e2e-9127-fce18b69d7a3",
   "metadata": {},
   "outputs": [
    {
     "data": {
      "text/plain": [
       "113524"
      ]
     },
     "execution_count": 3,
     "metadata": {},
     "output_type": "execute_result"
    }
   ],
   "source": [
    "len(filtered_dset[\"train\"])"
   ]
  },
  {
   "cell_type": "code",
   "execution_count": null,
   "id": "f54a0603-cb53-419c-9156-7f1e25d5f4e8",
   "metadata": {},
   "outputs": [],
   "source": []
  }
 ],
 "metadata": {
  "kernelspec": {
   "display_name": "Python 3 (ipykernel)",
   "language": "python",
   "name": "python3"
  },
  "language_info": {
   "codemirror_mode": {
    "name": "ipython",
    "version": 3
   },
   "file_extension": ".py",
   "mimetype": "text/x-python",
   "name": "python",
   "nbconvert_exporter": "python",
   "pygments_lexer": "ipython3",
   "version": "3.10.13"
  }
 },
 "nbformat": 4,
 "nbformat_minor": 5
}
